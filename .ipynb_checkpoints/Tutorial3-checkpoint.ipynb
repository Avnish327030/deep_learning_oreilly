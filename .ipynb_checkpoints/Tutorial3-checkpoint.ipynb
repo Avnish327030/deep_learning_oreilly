{
 "cells": [
  {
   "cell_type": "code",
   "execution_count": 1,
   "id": "0aa0b0f5-16d0-4ecb-bb73-9d2890af584f",
   "metadata": {},
   "outputs": [],
   "source": [
    "import torch"
   ]
  },
  {
   "cell_type": "code",
   "execution_count": 5,
   "id": "b58e90ee-b59a-4be7-a540-d1b8b8aa9aee",
   "metadata": {},
   "outputs": [
    {
     "data": {
      "text/plain": [
       "tensor([0, 1, 2, 3, 4, 5, 6, 7, 8])"
      ]
     },
     "execution_count": 5,
     "metadata": {},
     "output_type": "execute_result"
    }
   ],
   "source": [
    "one_d= torch.arange(start=0, end=9, step=1)\n",
    "one_d"
   ]
  },
  {
   "cell_type": "code",
   "execution_count": 7,
   "id": "ae1743b8-e087-4911-9a61-e0ec2a8214f0",
   "metadata": {},
   "outputs": [],
   "source": [
    "two_d = one_d.view(3,-1)"
   ]
  },
  {
   "cell_type": "code",
   "execution_count": 8,
   "id": "9f421f1d-72e7-45a2-b6cc-4285e3d56535",
   "metadata": {},
   "outputs": [
    {
     "data": {
      "text/plain": [
       "tensor([[0, 1, 2],\n",
       "        [3, 4, 5],\n",
       "        [6, 7, 8]])"
      ]
     },
     "execution_count": 8,
     "metadata": {},
     "output_type": "execute_result"
    }
   ],
   "source": [
    "two_d"
   ]
  },
  {
   "cell_type": "code",
   "execution_count": 9,
   "id": "2645d3b1-0101-45f7-a09a-6b3261dfcfd8",
   "metadata": {},
   "outputs": [
    {
     "data": {
      "text/plain": [
       "2"
      ]
     },
     "execution_count": 9,
     "metadata": {},
     "output_type": "execute_result"
    }
   ],
   "source": [
    "two_d.dim()"
   ]
  },
  {
   "cell_type": "code",
   "execution_count": 10,
   "id": "a746d4ad-31af-47f5-9867-bc73a34b48dc",
   "metadata": {},
   "outputs": [
    {
     "data": {
      "text/plain": [
       "tensor(0)"
      ]
     },
     "execution_count": 10,
     "metadata": {},
     "output_type": "execute_result"
    }
   ],
   "source": [
    "two_d[0,0]"
   ]
  },
  {
   "cell_type": "code",
   "execution_count": 11,
   "id": "e686250a-e9e0-4daf-8318-bfe62e7dcdbe",
   "metadata": {},
   "outputs": [
    {
     "data": {
      "text/plain": [
       "tensor(5)"
      ]
     },
     "execution_count": 11,
     "metadata": {},
     "output_type": "execute_result"
    }
   ],
   "source": [
    "two_d[1,2]"
   ]
  },
  {
   "cell_type": "code",
   "execution_count": 12,
   "id": "ca0e5aff-be09-4c77-a06c-2381d5b05cb3",
   "metadata": {},
   "outputs": [],
   "source": [
    "x = torch.arange(0,18)"
   ]
  },
  {
   "cell_type": "code",
   "execution_count": 13,
   "id": "7394ee3c-9f38-48e0-9f0c-79e08eb1a5fb",
   "metadata": {},
   "outputs": [
    {
     "data": {
      "text/plain": [
       "tensor([ 0,  1,  2,  3,  4,  5,  6,  7,  8,  9, 10, 11, 12, 13, 14, 15, 16, 17])"
      ]
     },
     "execution_count": 13,
     "metadata": {},
     "output_type": "execute_result"
    }
   ],
   "source": [
    "x"
   ]
  },
  {
   "cell_type": "code",
   "execution_count": 14,
   "id": "d205e18a-c12f-4214-9dbf-2780aaaa2530",
   "metadata": {},
   "outputs": [
    {
     "data": {
      "text/plain": [
       "tensor([[[ 0,  1,  2],\n",
       "         [ 3,  4,  5],\n",
       "         [ 6,  7,  8]],\n",
       "\n",
       "        [[ 9, 10, 11],\n",
       "         [12, 13, 14],\n",
       "         [15, 16, 17]]])"
      ]
     },
     "execution_count": 14,
     "metadata": {},
     "output_type": "execute_result"
    }
   ],
   "source": [
    "x.view(2,3,3)"
   ]
  },
  {
   "cell_type": "code",
   "execution_count": 15,
   "id": "01c62c4d-cd3c-4ff1-9019-1afd674426b8",
   "metadata": {},
   "outputs": [
    {
     "data": {
      "text/plain": [
       "tensor([[[ 0,  1,  2],\n",
       "         [ 3,  4,  5]],\n",
       "\n",
       "        [[ 6,  7,  8],\n",
       "         [ 9, 10, 11]],\n",
       "\n",
       "        [[12, 13, 14],\n",
       "         [15, 16, 17]]])"
      ]
     },
     "execution_count": 15,
     "metadata": {},
     "output_type": "execute_result"
    }
   ],
   "source": [
    "x.view(3,2,3)"
   ]
  },
  {
   "cell_type": "code",
   "execution_count": null,
   "id": "b941f4f0-8dea-4ad6-ab7a-de533f6776bf",
   "metadata": {},
   "outputs": [],
   "source": []
  }
 ],
 "metadata": {
  "kernelspec": {
   "display_name": "Python 3",
   "language": "python",
   "name": "python3"
  },
  "language_info": {
   "codemirror_mode": {
    "name": "ipython",
    "version": 3
   },
   "file_extension": ".py",
   "mimetype": "text/x-python",
   "name": "python",
   "nbconvert_exporter": "python",
   "pygments_lexer": "ipython3",
   "version": "3.6.13"
  }
 },
 "nbformat": 4,
 "nbformat_minor": 5
}

{
 "cells": [
  {
   "cell_type": "code",
   "execution_count": 86,
   "id": "39d12c1c-fdf1-456c-8fa8-565574db7ae7",
   "metadata": {},
   "outputs": [],
   "source": [
    "import torch\n",
    "import torch.nn as nn"
   ]
  },
  {
   "cell_type": "code",
   "execution_count": 87,
   "id": "4f020edf-c089-4904-8635-145c79f320d6",
   "metadata": {},
   "outputs": [],
   "source": [
    "import matplotlib.pyplot as plt"
   ]
  },
  {
   "cell_type": "code",
   "execution_count": 88,
   "id": "4ffc9133-f096-456f-b904-abcbe0ae46d8",
   "metadata": {},
   "outputs": [],
   "source": [
    "slope = 5\n",
    "X = torch.randn((100,1))\n",
    "y = X*slope + 3*torch.randn(100,1)"
   ]
  },
  {
   "cell_type": "code",
   "execution_count": 89,
   "id": "b761054c-6b00-4f89-8610-1d83dacda484",
   "metadata": {},
   "outputs": [
    {
     "data": {
      "text/plain": [
       "[<matplotlib.lines.Line2D at 0x18761fdf1d0>]"
      ]
     },
     "execution_count": 89,
     "metadata": {},
     "output_type": "execute_result"
    },
    {
     "data": {
      "image/png": "[encoded data removed]",
      "text/plain": [
       "<Figure size 432x288 with 1 Axes>"
      ]
     },
     "metadata": {
      "needs_background": "light"
     },
     "output_type": "display_data"
    }
   ],
   "source": [
    "plt.plot(X.numpy(),y.numpy(),'o')"
   ]
  },
  {
   "cell_type": "code",
   "execution_count": 90,
   "id": "8bac67b1-0bc9-4c13-aa54-64b163114008",
   "metadata": {},
   "outputs": [],
   "source": [
    "class LR(nn.Module):\n",
    "    def __init__(self,input_size,output_size):\n",
    "        super().__init__()\n",
    "        self.linear = nn.Linear(in_features=input_size,out_features=output_size)\n",
    "    \n",
    "    def forward(self,x):\n",
    "        return self.linear(x)\n",
    "        "
   ]
  },
  {
   "cell_type": "code",
   "execution_count": 91,
   "id": "d4f6aab5-1c0b-41f7-be3d-8234916f22a6",
   "metadata": {},
   "outputs": [
    {
     "data": {
      "text/plain": [
       "<torch._C.Generator at 0x1875a247198>"
      ]
     },
     "execution_count": 91,
     "metadata": {},
     "output_type": "execute_result"
    }
   ],
   "source": [
    "torch.manual_seed(1)"
   ]
  },
  {
   "cell_type": "code",
   "execution_count": 92,
   "id": "3f67826d-712b-4e03-bc79-c7286aff6581",
   "metadata": {},
   "outputs": [
    {
     "name": "stdout",
     "output_type": "stream",
     "text": [
      "LR(\n",
      "  (linear): Linear(in_features=1, out_features=1, bias=True)\n",
      ")\n"
     ]
    }
   ],
   "source": [
    "model = LR(1,1)\n",
    "print(model)"
   ]
  },
  {
   "cell_type": "code",
   "execution_count": null,
   "id": "062c1c21-4239-441f-bdde-cd64535f62bd",
   "metadata": {},
   "outputs": [],
   "source": []
  },
  {
   "cell_type": "code",
   "execution_count": 93,
   "id": "c7720c17-c2ef-497b-bc2e-27c7dad27b68",
   "metadata": {},
   "outputs": [],
   "source": [
    "def get_params(model):\n",
    "    [w,b]=model.parameters()\n",
    "    return  w[0][0].item(),b[0].item()"
   ]
  },
  {
   "cell_type": "code",
   "execution_count": 94,
   "id": "8aec4d4a-46ab-473b-92e8-13d1a40bb587",
   "metadata": {},
   "outputs": [
    {
     "data": {
      "text/plain": [
       "(0.5152631998062134, -0.44137823581695557)"
      ]
     },
     "execution_count": 94,
     "metadata": {},
     "output_type": "execute_result"
    }
   ],
   "source": [
    "get_params(model)"
   ]
  },
  {
   "cell_type": "code",
   "execution_count": 95,
   "id": "32d996f5-9131-433f-b55e-3f8f8ccd8176",
   "metadata": {},
   "outputs": [],
   "source": [
    "import numpy as np"
   ]
  },
  {
   "cell_type": "code",
   "execution_count": 96,
   "id": "6f899614-567a-46e6-9735-577daa2cacd8",
   "metadata": {},
   "outputs": [],
   "source": [
    "def plot_fit(title,model,X,y,l=-30,u=30):\n",
    "    plt.title=  title\n",
    "    w1,b1 = get_params(model)\n",
    "    x1 = np.array([l,u])\n",
    "    y1 = w1*x1+b1\n",
    "    plt.plot(x1,y1,'r')\n",
    "    plt.scatter(X,y)\n",
    "    plt.show()"
   ]
  },
  {
   "cell_type": "code",
   "execution_count": 97,
   "id": "deb961fb-25ec-4eb4-88e0-c21538deabc2",
   "metadata": {},
   "outputs": [
    {
     "data": {
      "image/png": "[encoded data removed]",
      "text/plain": [
       "<Figure size 432x288 with 1 Axes>"
      ]
     },
     "metadata": {
      "needs_background": "light"
     },
     "output_type": "display_data"
    }
   ],
   "source": [
    "plot_fit(\"Linear Regress\",model,X,y)"
   ]
  },
  {
   "cell_type": "code",
   "execution_count": 98,
   "id": "b52c67d0-712a-4253-a0d4-887747f89c66",
   "metadata": {},
   "outputs": [],
   "source": [
    "criterion = nn.MSELoss()"
   ]
  },
  {
   "cell_type": "code",
   "execution_count": 99,
   "id": "fc557cf4-c0e3-4a74-abac-f03bc6c77cd3",
   "metadata": {},
   "outputs": [],
   "source": [
    "optimizer = torch.optim.SGD(model.parameters(),lr=0.01)"
   ]
  },
  {
   "cell_type": "code",
   "execution_count": 100,
   "id": "033b8e47-331b-42ff-a5e1-b7143656a30f",
   "metadata": {},
   "outputs": [],
   "source": [
    "epochs = 100"
   ]
  },
  {
   "cell_type": "code",
   "execution_count": 101,
   "id": "dcafc02c-3668-4ebc-878a-8797f0ddb8cf",
   "metadata": {},
   "outputs": [
    {
     "name": "stdout",
     "output_type": "stream",
     "text": [
      "epoch :0 loss:32.63859939575195\n",
      "epoch :1 loss:31.622419357299805\n",
      "epoch :2 loss:30.64958953857422\n",
      "epoch :3 loss:29.718219757080078\n",
      "epoch :4 loss:28.826522827148438\n",
      "epoch :5 loss:27.972780227661133\n",
      "epoch :6 loss:27.15534210205078\n",
      "epoch :7 loss:26.372652053833008\n",
      "epoch :8 loss:25.623197555541992\n",
      "epoch :9 loss:24.905546188354492\n",
      "epoch :10 loss:24.218332290649414\n",
      "epoch :11 loss:23.560239791870117\n",
      "epoch :12 loss:22.930011749267578\n",
      "epoch :13 loss:22.326448440551758\n",
      "epoch :14 loss:21.74840545654297\n",
      "epoch :15 loss:21.194782257080078\n",
      "epoch :16 loss:20.664533615112305\n",
      "epoch :17 loss:20.156652450561523\n",
      "epoch :18 loss:19.67017936706543\n",
      "epoch :19 loss:19.204198837280273\n",
      "epoch :20 loss:18.757827758789062\n",
      "epoch :21 loss:18.330228805541992\n",
      "epoch :22 loss:17.92060089111328\n",
      "epoch :23 loss:17.528173446655273\n",
      "epoch :24 loss:17.152210235595703\n",
      "epoch :25 loss:16.792011260986328\n",
      "epoch :26 loss:16.446901321411133\n",
      "epoch :27 loss:16.11623764038086\n",
      "epoch :28 loss:15.799403190612793\n",
      "epoch :29 loss:15.495811462402344\n",
      "epoch :30 loss:15.204899787902832\n",
      "epoch :31 loss:14.926125526428223\n",
      "epoch :32 loss:14.658977508544922\n",
      "epoch :33 loss:14.40295696258545\n",
      "epoch :34 loss:14.157593727111816\n",
      "epoch :35 loss:13.922436714172363\n",
      "epoch :36 loss:13.697054862976074\n",
      "epoch :37 loss:13.481029510498047\n",
      "epoch :38 loss:13.273969650268555\n",
      "epoch :39 loss:13.075494766235352\n",
      "epoch :40 loss:12.885244369506836\n",
      "epoch :41 loss:12.702864646911621\n",
      "epoch :42 loss:12.528031349182129\n",
      "epoch :43 loss:12.360422134399414\n",
      "epoch :44 loss:12.199737548828125\n",
      "epoch :45 loss:12.045679092407227\n",
      "epoch :46 loss:11.897971153259277\n",
      "epoch :47 loss:11.75635051727295\n",
      "epoch :48 loss:11.62055778503418\n",
      "epoch :49 loss:11.490347862243652\n",
      "epoch :50 loss:11.365489959716797\n",
      "epoch :51 loss:11.245758056640625\n",
      "epoch :52 loss:11.130937576293945\n",
      "epoch :53 loss:11.020824432373047\n",
      "epoch :54 loss:10.9152193069458\n",
      "epoch :55 loss:10.813935279846191\n",
      "epoch :56 loss:10.716793060302734\n",
      "epoch :57 loss:10.623620986938477\n",
      "epoch :58 loss:10.534249305725098\n",
      "epoch :59 loss:10.448525428771973\n",
      "epoch :60 loss:10.366292953491211\n",
      "epoch :61 loss:10.287409782409668\n",
      "epoch :62 loss:10.211734771728516\n",
      "epoch :63 loss:10.13913631439209\n",
      "epoch :64 loss:10.069486618041992\n",
      "epoch :65 loss:10.002662658691406\n",
      "epoch :66 loss:9.938549995422363\n",
      "epoch :67 loss:9.877033233642578\n",
      "epoch :68 loss:9.818007469177246\n",
      "epoch :69 loss:9.761368751525879\n",
      "epoch :70 loss:9.707018852233887\n",
      "epoch :71 loss:9.654864311218262\n",
      "epoch :72 loss:9.604812622070312\n",
      "epoch :73 loss:9.556778907775879\n",
      "epoch :74 loss:9.510679244995117\n",
      "epoch :75 loss:9.466435432434082\n",
      "epoch :76 loss:9.423972129821777\n",
      "epoch :77 loss:9.38321304321289\n",
      "epoch :78 loss:9.344090461730957\n",
      "epoch :79 loss:9.306537628173828\n",
      "epoch :80 loss:9.270489692687988\n",
      "epoch :81 loss:9.235884666442871\n",
      "epoch :82 loss:9.202664375305176\n",
      "epoch :83 loss:9.170772552490234\n",
      "epoch :84 loss:9.140153884887695\n",
      "epoch :85 loss:9.110757827758789\n",
      "epoch :86 loss:9.082533836364746\n",
      "epoch :87 loss:9.055434226989746\n",
      "epoch :88 loss:9.029413223266602\n",
      "epoch :89 loss:9.004427909851074\n",
      "epoch :90 loss:8.98043441772461\n",
      "epoch :91 loss:8.957396507263184\n",
      "epoch :92 loss:8.935269355773926\n",
      "epoch :93 loss:8.914020538330078\n",
      "epoch :94 loss:8.893613815307617\n",
      "epoch :95 loss:8.874015808105469\n",
      "epoch :96 loss:8.855191230773926\n",
      "epoch :97 loss:8.837113380432129\n",
      "epoch :98 loss:8.819746971130371\n",
      "epoch :99 loss:8.80306625366211\n"
     ]
    }
   ],
   "source": [
    "losses = []\n",
    "for i in  range(epochs):\n",
    "    y_pred= model.forward(X)\n",
    "    loss = criterion(y_pred,y)\n",
    "    print(f\"epoch :{i} loss:{loss.item()}\")\n",
    "    losses.append(loss)\n",
    "    optimizer.zero_grad()\n",
    "    loss.backward()\n",
    "    optimizer.step()\n",
    "    "
   ]
  },
  {
   "cell_type": "code",
   "execution_count": 105,
   "id": "fb0a93ec-ab5a-46bc-a386-af281481c6ea",
   "metadata": {},
   "outputs": [
    {
     "data": {
      "image/png": "[encoded data removed]",
      "text/plain": [
       "<Figure size 432x288 with 1 Axes>"
      ]
     },
     "metadata": {
      "needs_background": "light"
     },
     "output_type": "display_data"
    }
   ],
   "source": [
    "plot_fit(\"Trained model\",model,X,y,-5,5)"
   ]
  },
  {
   "cell_type": "code",
   "execution_count": null,
   "id": "c0801d0f-c7ea-4a48-a002-6c77c7dc952e",
   "metadata": {},
   "outputs": [],
   "source": []
  },
  {
   "cell_type": "code",
   "execution_count": null,
   "id": "def16483-e312-4041-994a-16b173042c61",
   "metadata": {},
   "outputs": [],
   "source": []
  },
  {
   "cell_type": "code",
   "execution_count": null,
   "id": "297c86ea-b9af-4b10-bfbe-59981a467582",
   "metadata": {},
   "outputs": [],
   "source": []
  },
  {
   "cell_type": "code",
   "execution_count": null,
   "id": "bc079e3e-84de-455a-9968-98594b43f5f9",
   "metadata": {},
   "outputs": [],
   "source": []
  },
  {
   "cell_type": "code",
   "execution_count": null,
   "id": "fa27f1ec-436e-4549-9786-3a7224047990",
   "metadata": {},
   "outputs": [],
   "source": []
  },
  {
   "cell_type": "code",
   "execution_count": null,
   "id": "a61779dc-6c3b-4f4e-a10f-c6337a9f92e2",
   "metadata": {},
   "outputs": [],
   "source": []
  }
 ],
 "metadata": {
  "kernelspec": {
   "display_name": "Python 3",
   "language": "python",
   "name": "python3"
  },
  "language_info": {
   "codemirror_mode": {
    "name": "ipython",
    "version": 3
   },
   "file_extension": ".py",
   "mimetype": "text/x-python",
   "name": "python",
   "nbconvert_exporter": "python",
   "pygments_lexer": "ipython3",
   "version": "3.6.13"
  }
 },
 "nbformat": 4,
 "nbformat_minor": 5
}

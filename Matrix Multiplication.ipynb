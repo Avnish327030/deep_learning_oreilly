{
 "cells": [
  {
   "cell_type": "code",
   "execution_count": 1,
   "id": "52f5b0b5-688d-4e07-b7b6-770d919f9213",
   "metadata": {},
   "outputs": [],
   "source": [
    "import torch"
   ]
  },
  {
   "cell_type": "code",
   "execution_count": 2,
   "id": "3e2589cf-52e5-4260-b5b4-3eedddd91244",
   "metadata": {},
   "outputs": [],
   "source": [
    "mat_a = torch.tensor([0,3,5,5,5,2]).view(2,3)"
   ]
  },
  {
   "cell_type": "code",
   "execution_count": 3,
   "id": "01b09185-bcd2-40ae-af5a-2a7cdd655517",
   "metadata": {},
   "outputs": [],
   "source": [
    "mat_b = torch.tensor([3,4,3,-2,4,-2]).view(3,2)"
   ]
  },
  {
   "cell_type": "code",
   "execution_count": 4,
   "id": "f57cddfc-4299-44b4-a196-dc7e9bf98946",
   "metadata": {},
   "outputs": [
    {
     "data": {
      "text/plain": [
       "tensor([[ 29, -16],\n",
       "        [ 38,   6]])"
      ]
     },
     "execution_count": 4,
     "metadata": {},
     "output_type": "execute_result"
    }
   ],
   "source": [
    "torch.matmul(mat_a,mat_b)"
   ]
  },
  {
   "cell_type": "code",
   "execution_count": 5,
   "id": "9f6c020c-2a50-44ad-a593-810bd013160c",
   "metadata": {},
   "outputs": [
    {
     "data": {
      "text/plain": [
       "tensor([[ 29, -16],\n",
       "        [ 38,   6]])"
      ]
     },
     "execution_count": 5,
     "metadata": {},
     "output_type": "execute_result"
    }
   ],
   "source": [
    "mat_a @ mat_b"
   ]
  },
  {
   "cell_type": "code",
   "execution_count": null,
   "id": "c5cdd5fb-fddc-41e3-bf56-1718900ff14f",
   "metadata": {},
   "outputs": [],
   "source": []
  }
 ],
 "metadata": {
  "kernelspec": {
   "display_name": "Python 3",
   "language": "python",
   "name": "python3"
  },
  "language_info": {
   "codemirror_mode": {
    "name": "ipython",
    "version": 3
   },
   "file_extension": ".py",
   "mimetype": "text/x-python",
   "name": "python",
   "nbconvert_exporter": "python",
   "pygments_lexer": "ipython3",
   "version": "3.6.13"
  }
 },
 "nbformat": 4,
 "nbformat_minor": 5
}

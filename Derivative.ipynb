{
 "cells": [
  {
   "cell_type": "code",
   "execution_count": 2,
   "id": "28c98411-da4d-4a36-9b71-683908e3f2dd",
   "metadata": {},
   "outputs": [],
   "source": [
    "import torch"
   ]
  },
  {
   "cell_type": "code",
   "execution_count": 3,
   "id": "93e2fab9-127a-4c0c-92b4-d4325362888d",
   "metadata": {},
   "outputs": [],
   "source": [
    "\n",
    "x = torch.tensor(2.0,requires_grad=True)\n",
    "y = 9*x**4 + x*x**3 + x*x**2+6*x+1"
   ]
  },
  {
   "cell_type": "code",
   "execution_count": 4,
   "id": "b2c48012-5050-48c2-95fb-8b9f87e0a0f6",
   "metadata": {},
   "outputs": [],
   "source": [
    "y.backward()"
   ]
  },
  {
   "cell_type": "code",
   "execution_count": 5,
   "id": "b2e5cee4-74c0-48e4-b28e-d9a3f8415da9",
   "metadata": {},
   "outputs": [
    {
     "data": {
      "text/plain": [
       "tensor(338.)"
      ]
     },
     "execution_count": 5,
     "metadata": {},
     "output_type": "execute_result"
    }
   ],
   "source": [
    "x.grad"
   ]
  },
  {
   "cell_type": "markdown",
   "id": "04701d5c-ce65-4380-97ac-e9cc8be01db9",
   "metadata": {},
   "source": [
    "## Partial Derivative"
   ]
  },
  {
   "cell_type": "code",
   "execution_count": 6,
   "id": "6545619c-b632-4870-b211-116670502000",
   "metadata": {},
   "outputs": [],
   "source": [
    "\n",
    "x = torch.tensor(1.0,requires_grad=True)\n",
    "\n",
    "z = torch.tensor(2.0,requires_grad=True)"
   ]
  },
  {
   "cell_type": "code",
   "execution_count": 7,
   "id": "30d35e0a-6956-4600-aa21-31e955aead80",
   "metadata": {},
   "outputs": [],
   "source": [
    "y=x**2 + z**3"
   ]
  },
  {
   "cell_type": "code",
   "execution_count": 8,
   "id": "8497be01-81b5-4ac4-8276-09473f04a72c",
   "metadata": {},
   "outputs": [],
   "source": [
    "y.backward()"
   ]
  },
  {
   "cell_type": "code",
   "execution_count": 10,
   "id": "2c493da5-0dbf-473f-99b6-f081a08769f0",
   "metadata": {},
   "outputs": [
    {
     "data": {
      "text/plain": [
       "(tensor(12.), tensor(2.))"
      ]
     },
     "execution_count": 10,
     "metadata": {},
     "output_type": "execute_result"
    }
   ],
   "source": [
    "z.grad, x.grad"
   ]
  },
  {
   "cell_type": "code",
   "execution_count": null,
   "id": "9e9146ec-0a36-4958-ad90-8cea6fcd4228",
   "metadata": {},
   "outputs": [],
   "source": []
  }
 ],
 "metadata": {
  "kernelspec": {
   "display_name": "Python 3",
   "language": "python",
   "name": "python3"
  },
  "language_info": {
   "codemirror_mode": {
    "name": "ipython",
    "version": 3
   },
   "file_extension": ".py",
   "mimetype": "text/x-python",
   "name": "python",
   "nbconvert_exporter": "python",
   "pygments_lexer": "ipython3",
   "version": "3.6.13"
  }
 },
 "nbformat": 4,
 "nbformat_minor": 5
}

{
 "cells": [
  {
   "cell_type": "code",
   "execution_count": 1,
   "id": "c8f8dfa3-f563-48b3-98c5-55795eda229b",
   "metadata": {},
   "outputs": [],
   "source": [
    "import torch"
   ]
  },
  {
   "cell_type": "code",
   "execution_count": 2,
   "id": "1bb0f016-829c-4281-8716-2d2a55861052",
   "metadata": {},
   "outputs": [],
   "source": [
    "w =  torch.tensor(3.0, requires_grad=True)\n",
    "b = torch.tensor(1.0,requires_grad=True)\n"
   ]
  },
  {
   "cell_type": "code",
   "execution_count": 3,
   "id": "1802d5e0-51bd-4909-a0b8-5e5b00758f55",
   "metadata": {},
   "outputs": [],
   "source": [
    "def forward(x):\n",
    "    y = w*x +b\n",
    "    return y\n",
    "    "
   ]
  },
  {
   "cell_type": "code",
   "execution_count": 6,
   "id": "5f513125-8ea1-49aa-b490-40586084a068",
   "metadata": {},
   "outputs": [],
   "source": [
    "x= torch.tensor([[4],[7]])"
   ]
  },
  {
   "cell_type": "code",
   "execution_count": 7,
   "id": "e1d483d4-bcbb-48e3-8aac-4d3e0e267b49",
   "metadata": {},
   "outputs": [
    {
     "data": {
      "text/plain": [
       "tensor([[13.],\n",
       "        [22.]], grad_fn=<AddBackward0>)"
      ]
     },
     "execution_count": 7,
     "metadata": {},
     "output_type": "execute_result"
    }
   ],
   "source": [
    "forward(x)"
   ]
  },
  {
   "cell_type": "markdown",
   "id": "ae2d8ec9-2c27-46f0-8383-99e0263cd913",
   "metadata": {},
   "source": [
    "## Linear Class"
   ]
  },
  {
   "cell_type": "code",
   "execution_count": 8,
   "id": "278c148e-ef12-49aa-8f1e-486da941b4d6",
   "metadata": {},
   "outputs": [],
   "source": [
    "import torch"
   ]
  },
  {
   "cell_type": "code",
   "execution_count": 9,
   "id": "1efe5145-0a59-4720-bdca-df315a4921d3",
   "metadata": {},
   "outputs": [],
   "source": [
    "from torch.nn import Linear"
   ]
  },
  {
   "cell_type": "code",
   "execution_count": 10,
   "id": "25f8249e-1eda-4591-bab9-6f9794b88b41",
   "metadata": {},
   "outputs": [
    {
     "data": {
      "text/plain": [
       "<torch._C.Generator at 0x163d945b198>"
      ]
     },
     "execution_count": 10,
     "metadata": {},
     "output_type": "execute_result"
    }
   ],
   "source": [
    "torch.manual_seed(1)"
   ]
  },
  {
   "cell_type": "code",
   "execution_count": 11,
   "id": "22369ef1-04eb-4c4d-8aa8-cf61abbcbf5c",
   "metadata": {},
   "outputs": [],
   "source": [
    "model  = Linear(in_features=1, out_features = 1)"
   ]
  },
  {
   "cell_type": "code",
   "execution_count": 13,
   "id": "cc59199b-26c0-46d1-95b3-7186b410718f",
   "metadata": {},
   "outputs": [
    {
     "name": "stdout",
     "output_type": "stream",
     "text": [
      "Parameter containing:\n",
      "tensor([-0.4414], requires_grad=True) Parameter containing:\n",
      "tensor([[0.5153]], requires_grad=True)\n"
     ]
    }
   ],
   "source": [
    "print(model.bias,model.weight)"
   ]
  },
  {
   "cell_type": "code",
   "execution_count": 16,
   "id": "c8128682-ed26-422b-8d12-c588db535a40",
   "metadata": {},
   "outputs": [
    {
     "data": {
      "text/plain": [
       "tensor([[0.5891],\n",
       "        [1.2590]], grad_fn=<AddmmBackward0>)"
      ]
     },
     "execution_count": 16,
     "metadata": {},
     "output_type": "execute_result"
    }
   ],
   "source": [
    "x = torch.tensor([[2.0],[3.3]])\n",
    "model(x)"
   ]
  },
  {
   "cell_type": "code",
   "execution_count": null,
   "id": "8391fc79-94ae-4fb5-88c1-db2076097b28",
   "metadata": {},
   "outputs": [],
   "source": []
  }
 ],
 "metadata": {
  "kernelspec": {
   "display_name": "Python 3",
   "language": "python",
   "name": "python3"
  },
  "language_info": {
   "codemirror_mode": {
    "name": "ipython",
    "version": 3
   },
   "file_extension": ".py",
   "mimetype": "text/x-python",
   "name": "python",
   "nbconvert_exporter": "python",
   "pygments_lexer": "ipython3",
   "version": "3.6.13"
  }
 },
 "nbformat": 4,
 "nbformat_minor": 5
}
